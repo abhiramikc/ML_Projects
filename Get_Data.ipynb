{
  "nbformat": 4,
  "nbformat_minor": 0,
  "metadata": {
    "colab": {
      "name": "Get Data.ipynb",
      "provenance": [],
      "authorship_tag": "ABX9TyMuWPk940N7jnQcPhOKHeJF"
    },
    "kernelspec": {
      "name": "python3",
      "display_name": "Python 3"
    },
    "language_info": {
      "name": "python"
    }
  },
  "cells": [
    {
      "cell_type": "markdown",
      "metadata": {
        "id": "lvDLsH-gPOX_"
      },
      "source": [
        "#Get Data from kaggle Api"
      ]
    },
    {
      "cell_type": "code",
      "metadata": {
        "colab": {
          "base_uri": "https://localhost:8080/"
        },
        "id": "P_T679HrC2sv",
        "outputId": "95ba020c-5d40-4ee2-a634-49919338b01a"
      },
      "source": [
        "!pip install requests\n"
      ],
      "execution_count": 2,
      "outputs": [
        {
          "output_type": "stream",
          "text": [
            "Requirement already satisfied: requests in /usr/local/lib/python3.7/dist-packages (2.23.0)\n",
            "Requirement already satisfied: certifi>=2017.4.17 in /usr/local/lib/python3.7/dist-packages (from requests) (2021.5.30)\n",
            "Requirement already satisfied: urllib3!=1.25.0,!=1.25.1,<1.26,>=1.21.1 in /usr/local/lib/python3.7/dist-packages (from requests) (1.24.3)\n",
            "Requirement already satisfied: chardet<4,>=3.0.2 in /usr/local/lib/python3.7/dist-packages (from requests) (3.0.4)\n",
            "Requirement already satisfied: idna<3,>=2.5 in /usr/local/lib/python3.7/dist-packages (from requests) (2.10)\n"
          ],
          "name": "stdout"
        }
      ]
    },
    {
      "cell_type": "code",
      "metadata": {
        "colab": {
          "base_uri": "https://localhost:8080/"
        },
        "id": "TZCPxlcdDg2C",
        "outputId": "890cf4ab-5c0e-4e68-ccf7-428ac791e2cb"
      },
      "source": [
        "import requests\n",
        "response = requests.get(\"http://api.open-notify.org/iss-now.json\")\n",
        "print(response.status_code)"
      ],
      "execution_count": 24,
      "outputs": [
        {
          "output_type": "stream",
          "text": [
            "200\n"
          ],
          "name": "stdout"
        }
      ]
    },
    {
      "cell_type": "code",
      "metadata": {
        "colab": {
          "base_uri": "https://localhost:8080/"
        },
        "id": "w5e978-RDxr8",
        "outputId": "9528bc3b-d579-4b8c-d042-4edaeff83739"
      },
      "source": [
        "import requests\n",
        "import json\n",
        "response = requests.get(\"http://api.open-notify.org/iss-now.json\")\n",
        "print(response.json())\n"
      ],
      "execution_count": 25,
      "outputs": [
        {
          "output_type": "stream",
          "text": [
            "{'iss_position': {'latitude': '-26.7361', 'longitude': '-119.0932'}, 'timestamp': 1625682622, 'message': 'success'}\n"
          ],
          "name": "stdout"
        }
      ]
    },
    {
      "cell_type": "code",
      "metadata": {
        "id": "dmse7seVD4-I",
        "colab": {
          "base_uri": "https://localhost:8080/"
        },
        "outputId": "a7a9ba72-8fa3-4389-dfce-1286d389b678"
      },
      "source": [
        "!pip install -q kaggle\n",
        "!pip install -q kaggle-cli\n",
        "!mkdir -p ~/.kaggle\n",
        "!cp \"/content/kaggle.json\" ~/.kaggle/\n"
      ],
      "execution_count": 26,
      "outputs": [
        {
          "output_type": "stream",
          "text": [
            "\u001b[K     |████████████████████████████████| 81kB 2.6MB/s \n",
            "\u001b[K     |████████████████████████████████| 4.2MB 11.2MB/s \n",
            "\u001b[K     |████████████████████████████████| 112kB 40.5MB/s \n",
            "\u001b[K     |████████████████████████████████| 51kB 5.0MB/s \n",
            "\u001b[K     |████████████████████████████████| 143kB 31.6MB/s \n",
            "\u001b[?25h  Building wheel for kaggle-cli (setup.py) ... \u001b[?25l\u001b[?25hdone\n",
            "  Building wheel for lxml (setup.py) ... \u001b[?25lerror\n",
            "\u001b[31m  ERROR: Failed building wheel for lxml\u001b[0m\n",
            "\u001b[?25h  Building wheel for PrettyTable (setup.py) ... \u001b[?25l\u001b[?25hdone\n",
            "  Building wheel for pyperclip (setup.py) ... \u001b[?25l\u001b[?25hdone\n",
            "    Running setup.py install for lxml ... \u001b[?25l\u001b[?25herror\n",
            "\u001b[31mERROR: Command errored out with exit status 1: /usr/bin/python3 -u -c 'import sys, setuptools, tokenize; sys.argv[0] = '\"'\"'/tmp/pip-install-ihm86vhe/lxml/setup.py'\"'\"'; __file__='\"'\"'/tmp/pip-install-ihm86vhe/lxml/setup.py'\"'\"';f=getattr(tokenize, '\"'\"'open'\"'\"', open)(__file__);code=f.read().replace('\"'\"'\\r\\n'\"'\"', '\"'\"'\\n'\"'\"');f.close();exec(compile(code, __file__, '\"'\"'exec'\"'\"'))' install --record /tmp/pip-record-r93szc2t/install-record.txt --single-version-externally-managed --compile Check the logs for full command output.\u001b[0m\n"
          ],
          "name": "stdout"
        }
      ]
    },
    {
      "cell_type": "code",
      "metadata": {
        "colab": {
          "base_uri": "https://localhost:8080/"
        },
        "id": "avjkrnDxIYCl",
        "outputId": "959684cd-d7bc-4a35-9318-e6540b211a8f"
      },
      "source": [
        "!kaggle datasets download -d andrewmvd/face-mask-detection"
      ],
      "execution_count": 27,
      "outputs": [
        {
          "output_type": "stream",
          "text": [
            "Warning: Your Kaggle API key is readable by other users on this system! To fix this, you can run 'chmod 600 /root/.kaggle/kaggle.json'\n",
            "Downloading face-mask-detection.zip to /content\n",
            " 99% 392M/398M [00:04<00:00, 119MB/s]\n",
            "100% 398M/398M [00:04<00:00, 97.5MB/s]\n"
          ],
          "name": "stdout"
        }
      ]
    },
    {
      "cell_type": "markdown",
      "metadata": {
        "id": "9sRWa6Q1PUni"
      },
      "source": [
        "#Get data from Api "
      ]
    },
    {
      "cell_type": "code",
      "metadata": {
        "id": "E6L55dokGwPg"
      },
      "source": [
        "import pandas as pd\n",
        "import requests"
      ],
      "execution_count": 3,
      "outputs": []
    },
    {
      "cell_type": "markdown",
      "metadata": {
        "id": "e9-NiiHBPejs"
      },
      "source": [
        "https://api.themoviedb.org/3/movie/top_rated?api_key=d133ddcc37565daf8541ed1a80adf06f&language=en-US&page=1 api we are using "
      ]
    },
    {
      "cell_type": "code",
      "metadata": {
        "id": "pojyPnc_GwVO"
      },
      "source": [
        "response=requests.get('https://api.themoviedb.org/3/movie/top_rated?api_key=d133ddcc37565daf8541ed1a80adf06f&language=en-US&page=1')"
      ],
      "execution_count": 5,
      "outputs": []
    },
    {
      "cell_type": "code",
      "metadata": {
        "colab": {
          "base_uri": "https://localhost:8080/"
        },
        "id": "T0UKg9y6GwX4",
        "outputId": "3bf52e39-dc33-4dc7-9cb2-255e2dde2e96"
      },
      "source": [
        "response.json()"
      ],
      "execution_count": 6,
      "outputs": [
        {
          "output_type": "execute_result",
          "data": {
            "text/plain": [
              "{'page': 1,\n",
              " 'results': [{'adult': False,\n",
              "   'backdrop_path': '/gNBCvtYyGPbjPCT1k3MvJuNuXR6.jpg',\n",
              "   'genre_ids': [35, 18, 10749],\n",
              "   'id': 19404,\n",
              "   'original_language': 'hi',\n",
              "   'original_title': 'दिलवाले दुल्हनिया ले जायेंगे',\n",
              "   'overview': 'Raj is a rich, carefree, happy-go-lucky second generation NRI. Simran is the daughter of Chaudhary Baldev Singh, who in spite of being an NRI is very strict about adherence to Indian values. Simran has left for India to be married to her childhood fiancé. Raj leaves for India with a mission at his hands, to claim his lady love under the noses of her whole family. Thus begins a saga.',\n",
              "   'popularity': 16.673,\n",
              "   'poster_path': '/2CAL2433ZeIihfX1Hb2139CX0pW.jpg',\n",
              "   'release_date': '1995-10-20',\n",
              "   'title': 'Dilwale Dulhania Le Jayenge',\n",
              "   'video': False,\n",
              "   'vote_average': 8.7,\n",
              "   'vote_count': 2991},\n",
              "  {'adult': False,\n",
              "   'backdrop_path': '/iNh3BivHyg5sQRPP1KOkzguEX0H.jpg',\n",
              "   'genre_ids': [18, 80],\n",
              "   'id': 278,\n",
              "   'original_language': 'en',\n",
              "   'original_title': 'The Shawshank Redemption',\n",
              "   'overview': 'Framed in the 1940s for the double murder of his wife and her lover, upstanding banker Andy Dufresne begins a new life at the Shawshank prison, where he puts his accounting skills to work for an amoral warden. During his long stretch in prison, Dufresne comes to be admired by the other inmates -- including an older prisoner named Red -- for his integrity and unquenchable sense of hope.',\n",
              "   'popularity': 54.025,\n",
              "   'poster_path': '/q6y0Go1tsGEsmtFryDOJo3dEmqu.jpg',\n",
              "   'release_date': '1994-09-23',\n",
              "   'title': 'The Shawshank Redemption',\n",
              "   'video': False,\n",
              "   'vote_average': 8.7,\n",
              "   'vote_count': 19189},\n",
              "  {'adult': False,\n",
              "   'backdrop_path': '/jtAI6OJIWLWiRItNSZoWjrsUtmi.jpg',\n",
              "   'genre_ids': [10749],\n",
              "   'id': 724089,\n",
              "   'original_language': 'en',\n",
              "   'original_title': \"Gabriel's Inferno Part II\",\n",
              "   'overview': \"Professor Gabriel Emerson finally learns the truth about Julia Mitchell's identity, but his realization comes a moment too late. Julia is done waiting for the well-respected Dante specialist to remember her and wants nothing more to do with him. Can Gabriel win back her heart before she finds love in another's arms?\",\n",
              "   'popularity': 6.348,\n",
              "   'poster_path': '/x5o8cLZfEXMoZczTYWLrUo1P7UJ.jpg',\n",
              "   'release_date': '2020-07-31',\n",
              "   'title': \"Gabriel's Inferno Part II\",\n",
              "   'video': False,\n",
              "   'vote_average': 8.7,\n",
              "   'vote_count': 1277},\n",
              "  {'adult': False,\n",
              "   'backdrop_path': '/rSPw7tgCH9c6NqICZef4kZjFOQ5.jpg',\n",
              "   'genre_ids': [18, 80],\n",
              "   'id': 238,\n",
              "   'original_language': 'en',\n",
              "   'original_title': 'The Godfather',\n",
              "   'overview': 'Spanning the years 1945 to 1955, a chronicle of the fictional Italian-American Corleone crime family. When organized crime family patriarch, Vito Corleone barely survives an attempt on his life, his youngest son, Michael steps in to take care of the would-be killers, launching a campaign of bloody revenge.',\n",
              "   'popularity': 47.412,\n",
              "   'poster_path': '/3bhkrj58Vtu7enYsRolD1fZdja1.jpg',\n",
              "   'release_date': '1972-03-14',\n",
              "   'title': 'The Godfather',\n",
              "   'video': False,\n",
              "   'vote_average': 8.7,\n",
              "   'vote_count': 14481},\n",
              "  {'adult': False,\n",
              "   'backdrop_path': '/fQq1FWp1rC89xDrRMuyFJdFUdMd.jpg',\n",
              "   'genre_ids': [10749, 35],\n",
              "   'id': 761053,\n",
              "   'original_language': 'en',\n",
              "   'original_title': \"Gabriel's Inferno Part III\",\n",
              "   'overview': \"The final part of the film adaption of the erotic romance novel Gabriel's Inferno written by an anonymous Canadian author under the pen name Sylvain Reynard.  Watch now : https://stream4k.xyz\",\n",
              "   'popularity': 21.192,\n",
              "   'poster_path': '/fYtHxTxlhzD4QWfEbrC1rypysSD.jpg',\n",
              "   'release_date': '2020-11-19',\n",
              "   'title': \"Gabriel's Inferno Part III\",\n",
              "   'video': False,\n",
              "   'vote_average': 8.7,\n",
              "   'vote_count': 838},\n",
              "  {'adult': False,\n",
              "   'backdrop_path': '/w2uGvCpMtvRqZg6waC1hvLyZoJa.jpg',\n",
              "   'genre_ids': [10749],\n",
              "   'id': 696374,\n",
              "   'original_language': 'en',\n",
              "   'original_title': \"Gabriel's Inferno\",\n",
              "   'overview': \"An intriguing and sinful exploration of seduction, forbidden love, and redemption, Gabriel's Inferno is a captivating and wildly passionate tale of one man's escape from his own personal hell as he tries to earn the impossible--forgiveness and love.\",\n",
              "   'popularity': 8.748,\n",
              "   'poster_path': '/oyG9TL7FcRP4EZ9Vid6uKzwdndz.jpg',\n",
              "   'release_date': '2020-05-29',\n",
              "   'title': \"Gabriel's Inferno\",\n",
              "   'video': False,\n",
              "   'vote_average': 8.6,\n",
              "   'vote_count': 2071},\n",
              "  {'adult': False,\n",
              "   'backdrop_path': '/loRmRzQXZeqG78TqZuyvSlEQfZb.jpg',\n",
              "   'genre_ids': [18, 36, 10752],\n",
              "   'id': 424,\n",
              "   'original_language': 'en',\n",
              "   'original_title': \"Schindler's List\",\n",
              "   'overview': 'The true story of how businessman Oskar Schindler saved over a thousand Jewish lives from the Nazis while they worked as slaves in his factory during World War II.',\n",
              "   'popularity': 32.933,\n",
              "   'poster_path': '/sF1U4EUQS8YHUYjNl3pMGNIQyr0.jpg',\n",
              "   'release_date': '1993-11-30',\n",
              "   'title': \"Schindler's List\",\n",
              "   'video': False,\n",
              "   'vote_average': 8.6,\n",
              "   'vote_count': 11525},\n",
              "  {'adult': False,\n",
              "   'backdrop_path': '/poec6RqOKY9iSiIUmfyfPfiLtvB.jpg',\n",
              "   'genre_ids': [18, 80],\n",
              "   'id': 240,\n",
              "   'original_language': 'en',\n",
              "   'original_title': 'The Godfather: Part II',\n",
              "   'overview': 'In the continuing saga of the Corleone crime family, a young Vito Corleone grows up in Sicily and in 1910s New York. In the 1950s, Michael Corleone attempts to expand the family business into Las Vegas, Hollywood and Cuba.',\n",
              "   'popularity': 30.291,\n",
              "   'poster_path': '/hek3koDUyRQk7FIhPXsa6mT2Zc3.jpg',\n",
              "   'release_date': '1974-12-20',\n",
              "   'title': 'The Godfather: Part II',\n",
              "   'video': False,\n",
              "   'vote_average': 8.6,\n",
              "   'vote_count': 8656},\n",
              "  {'adult': False,\n",
              "   'backdrop_path': '/dIWwZW7dJJtqC6CgWzYkNVKIUm8.jpg',\n",
              "   'genre_ids': [10749, 16, 18],\n",
              "   'id': 372058,\n",
              "   'original_language': 'ja',\n",
              "   'original_title': '君の名は。',\n",
              "   'overview': 'High schoolers Mitsuha and Taki are complete strangers living separate lives. But one night, they suddenly switch places. Mitsuha wakes up in Taki’s body, and he in hers. This bizarre occurrence continues to happen randomly, and the two must adjust their lives around each other.',\n",
              "   'popularity': 120.943,\n",
              "   'poster_path': '/q719jXXEzOoYaps6babgKnONONX.jpg',\n",
              "   'release_date': '2016-08-26',\n",
              "   'title': 'Your Name.',\n",
              "   'video': False,\n",
              "   'vote_average': 8.6,\n",
              "   'vote_count': 7606},\n",
              "  {'adult': False,\n",
              "   'backdrop_path': '/Ab8mkHmkYADjU7wQiOkia9BzGvS.jpg',\n",
              "   'genre_ids': [16, 10751, 14],\n",
              "   'id': 129,\n",
              "   'original_language': 'ja',\n",
              "   'original_title': '千と千尋の神隠し',\n",
              "   'overview': 'A young girl, Chihiro, becomes trapped in a strange new world of spirits. When her parents undergo a mysterious transformation, she must call upon the courage she never knew she had to free her family.',\n",
              "   'popularity': 64.466,\n",
              "   'poster_path': '/39wmItIWsg5sZMyRUHLkWBcuVCM.jpg',\n",
              "   'release_date': '2001-07-20',\n",
              "   'title': 'Spirited Away',\n",
              "   'video': False,\n",
              "   'vote_average': 8.5,\n",
              "   'vote_count': 11502},\n",
              "  {'adult': False,\n",
              "   'backdrop_path': '/TU9NIjwzjoKPwQHoHshkFcQUCG.jpg',\n",
              "   'genre_ids': [35, 53, 18],\n",
              "   'id': 496243,\n",
              "   'original_language': 'ko',\n",
              "   'original_title': '기생충',\n",
              "   'overview': \"All unemployed, Ki-taek's family takes peculiar interest in the wealthy and glamorous Parks for their livelihood until they get entangled in an unexpected incident.\",\n",
              "   'popularity': 117.134,\n",
              "   'poster_path': '/7IiTTgloJzvGI1TAYymCfbfl3vT.jpg',\n",
              "   'release_date': '2019-05-30',\n",
              "   'title': 'Parasite',\n",
              "   'video': False,\n",
              "   'vote_average': 8.5,\n",
              "   'vote_count': 11652},\n",
              "  {'adult': False,\n",
              "   'backdrop_path': '/9guoVF7zayiiUq5ulKQpt375VIy.jpg',\n",
              "   'genre_ids': [16, 28, 14, 12],\n",
              "   'id': 592350,\n",
              "   'original_language': 'ja',\n",
              "   'original_title': '僕のヒーローアカデミア THE MOVIE ヒーローズ：ライジング',\n",
              "   'overview': \"Class 1-A visits Nabu Island where they finally get to do some real hero work. The place is so peaceful that it's more like a vacation … until they're attacked by a villain with an unfathomable Quirk! His power is eerily familiar, and it looks like Shigaraki had a hand in the plan. But with All Might retired and citizens' lives on the line, there's no time for questions. Deku and his friends are the next generation of heroes, and they're the island's only hope.\",\n",
              "   'popularity': 340.56,\n",
              "   'poster_path': '/zGVbrulkupqpbwgiNedkJPyQum4.jpg',\n",
              "   'release_date': '2019-12-20',\n",
              "   'title': 'My Hero Academia: Heroes Rising',\n",
              "   'video': False,\n",
              "   'vote_average': 8.5,\n",
              "   'vote_count': 748},\n",
              "  {'adult': False,\n",
              "   'backdrop_path': '/hQQTE285UQB1lLY1XiioQ77LYnC.jpg',\n",
              "   'genre_ids': [16, 35, 10749, 18, 14],\n",
              "   'id': 572154,\n",
              "   'original_language': 'ja',\n",
              "   'original_title': '青春ブタ野郎はゆめみる少女の夢を見ない',\n",
              "   'overview': 'In Fujisawa, Sakuta Azusagawa is in his second year of high school. Blissful days with his girlfriend and upperclassman, Mai Sakurajima, are interrupted by the appearance of his first crush, Shoko Makinohara.',\n",
              "   'popularity': 137.836,\n",
              "   'poster_path': '/7Ai8vNEv4zEveh12JViGikoVPVV.jpg',\n",
              "   'release_date': '2019-06-15',\n",
              "   'title': 'Rascal Does Not Dream of a Dreaming Girl',\n",
              "   'video': False,\n",
              "   'vote_average': 8.5,\n",
              "   'vote_count': 280},\n",
              "  {'adult': False,\n",
              "   'backdrop_path': '/5Nz25DPXfQaSpDgce42Y3kFg9G4.jpg',\n",
              "   'genre_ids': [14, 18, 80],\n",
              "   'id': 497,\n",
              "   'original_language': 'en',\n",
              "   'original_title': 'The Green Mile',\n",
              "   'overview': \"A supernatural tale set on death row in a Southern prison, where gentle giant John Coffey possesses the mysterious power to heal people's ailments. When the cell block's head guard, Paul Edgecomb, recognizes Coffey's miraculous gift, he tries desperately to help stave off the condemned man's execution.\",\n",
              "   'popularity': 47.545,\n",
              "   'poster_path': '/velWPhVMQeQKcxggNEU8YmIo52R.jpg',\n",
              "   'release_date': '1999-12-10',\n",
              "   'title': 'The Green Mile',\n",
              "   'video': False,\n",
              "   'vote_average': 8.5,\n",
              "   'vote_count': 12438},\n",
              "  {'adult': False,\n",
              "   'backdrop_path': '/88J6waYVTta8Qz3iX3qUeWNA5d5.jpg',\n",
              "   'genre_ids': [18, 10749],\n",
              "   'id': 447362,\n",
              "   'original_language': 'en',\n",
              "   'original_title': 'Life in a Year',\n",
              "   'overview': 'A 17 year old finds out that his girlfriend is dying, so he sets out to give her an entire life, in the last year she has left.',\n",
              "   'popularity': 84.626,\n",
              "   'poster_path': '/bP7u19opmHXYeTCUwGjlLldmUMc.jpg',\n",
              "   'release_date': '2020-11-27',\n",
              "   'title': 'Life in a Year',\n",
              "   'video': False,\n",
              "   'vote_average': 8.5,\n",
              "   'vote_count': 681},\n",
              "  {'adult': False,\n",
              "   'backdrop_path': '/yHtB4KHNigx3ZoxDvQbW2SOXGfq.jpg',\n",
              "   'genre_ids': [16, 10751, 12, 14],\n",
              "   'id': 441130,\n",
              "   'original_language': 'en',\n",
              "   'original_title': 'Wolfwalkers',\n",
              "   'overview': 'In a time of superstition and magic, when wolves are seen as demonic and nature an evil to be tamed, a young apprentice hunter comes to Ireland with her father to wipe out the last pack. But when she saves a wild native girl, their friendship leads her to discover the world of the Wolfwalkers and transform her into the very thing her father is tasked to destroy.',\n",
              "   'popularity': 21.786,\n",
              "   'poster_path': '/uRkDrsKwCCZC9zdHZs2CFTt1ATZ.jpg',\n",
              "   'release_date': '2020-10-26',\n",
              "   'title': 'Wolfwalkers',\n",
              "   'video': False,\n",
              "   'vote_average': 8.5,\n",
              "   'vote_count': 490},\n",
              "  {'adult': False,\n",
              "   'backdrop_path': '/nVKRspU9SQEs2gNrms8cDKsI4vx.jpg',\n",
              "   'genre_ids': [28, 878],\n",
              "   'id': 588228,\n",
              "   'original_language': 'en',\n",
              "   'original_title': 'The Tomorrow War',\n",
              "   'overview': 'The world is stunned when a group of time travelers arrive from the year 2051 to deliver an urgent message: Thirty years in the future, mankind is losing a global war against a deadly alien species. The only hope for survival is for soldiers and civilians from the present to be transported to the future and join the fight. Among those recruited is high school teacher and family man Dan Forester. Determined to save the world for his young daughter, Dan teams up with a brilliant scientist and his estranged father in a desperate quest to rewrite the fate of the planet.',\n",
              "   'popularity': 2116.353,\n",
              "   'poster_path': '/34nDCQZwaEvsy4CFO5hkGRFDCVU.jpg',\n",
              "   'release_date': '2021-07-02',\n",
              "   'title': 'The Tomorrow War',\n",
              "   'video': False,\n",
              "   'vote_average': 8.5,\n",
              "   'vote_count': 1467},\n",
              "  {'adult': False,\n",
              "   'backdrop_path': '/qqHQsStV6exghCM7zbObuYBiYxw.jpg',\n",
              "   'genre_ids': [18],\n",
              "   'id': 389,\n",
              "   'original_language': 'en',\n",
              "   'original_title': '12 Angry Men',\n",
              "   'overview': \"The defense and the prosecution have rested and the jury is filing into the jury room to decide if a young Spanish-American is guilty or innocent of murdering his father. What begins as an open and shut case soon becomes a mini-drama of each of the jurors' prejudices and preconceptions about the trial, the accused, and each other.\",\n",
              "   'popularity': 20.443,\n",
              "   'poster_path': '/7sf9CgJz30aXDvrg7DYYUQ2U91T.jpg',\n",
              "   'release_date': '1957-04-10',\n",
              "   'title': '12 Angry Men',\n",
              "   'video': False,\n",
              "   'vote_average': 8.5,\n",
              "   'vote_count': 5662},\n",
              "  {'adult': False,\n",
              "   'backdrop_path': '/suaEOtk1N1sgg2MTM7oZd2cfVp3.jpg',\n",
              "   'genre_ids': [53, 80],\n",
              "   'id': 680,\n",
              "   'original_language': 'en',\n",
              "   'original_title': 'Pulp Fiction',\n",
              "   'overview': \"A burger-loving hit man, his philosophical partner, a drug-addled gangster's moll and a washed-up boxer converge in this sprawling, comedic crime caper. Their adventures unfurl in three stories that ingeniously trip back and forth in time.\",\n",
              "   'popularity': 43.173,\n",
              "   'poster_path': '/d5iIlFn5s0ImszYzBPb8JPIfbXD.jpg',\n",
              "   'release_date': '1994-09-10',\n",
              "   'title': 'Pulp Fiction',\n",
              "   'video': False,\n",
              "   'vote_average': 8.5,\n",
              "   'vote_count': 21336},\n",
              "  {'adult': False,\n",
              "   'backdrop_path': '/1fOsyhVz5qyX2rl1qqX6KImVhTx.jpg',\n",
              "   'genre_ids': [18, 35],\n",
              "   'id': 644479,\n",
              "   'original_language': 'es',\n",
              "   'original_title': 'Dedicada a mi ex',\n",
              "   'overview': 'The film tells the story of Ariel, a 21-year-old who decides to form a rock band to compete for a prize of ten thousand dollars in a musical band contest, this as a last option when trying to get money to save their relationship and reunite with his ex-girlfriend, which breaks due to the trip she must make to Finland for an internship. Ariel with her friend Ortega, decides to make a casting to find the other members of the band, although they do not know nothing about music, thus forming a band with members that have diverse and opposite personalities.',\n",
              "   'popularity': 18.222,\n",
              "   'poster_path': '/riAooJrFvVhotyaOgoI0WR7okSe.jpg',\n",
              "   'release_date': '2019-11-01',\n",
              "   'title': 'Dedicated to my ex',\n",
              "   'video': False,\n",
              "   'vote_average': 8.5,\n",
              "   'vote_count': 397}],\n",
              " 'total_pages': 444,\n",
              " 'total_results': 8864}"
            ]
          },
          "metadata": {
            "tags": []
          },
          "execution_count": 6
        }
      ]
    },
    {
      "cell_type": "code",
      "metadata": {
        "colab": {
          "base_uri": "https://localhost:8080/"
        },
        "id": "CO5n48UlK4ZO",
        "outputId": "100c1e8c-6ce1-46b3-e244-4eee684f5394"
      },
      "source": [
        "response.json()['results']"
      ],
      "execution_count": 7,
      "outputs": [
        {
          "output_type": "execute_result",
          "data": {
            "text/plain": [
              "[{'adult': False,\n",
              "  'backdrop_path': '/gNBCvtYyGPbjPCT1k3MvJuNuXR6.jpg',\n",
              "  'genre_ids': [35, 18, 10749],\n",
              "  'id': 19404,\n",
              "  'original_language': 'hi',\n",
              "  'original_title': 'दिलवाले दुल्हनिया ले जायेंगे',\n",
              "  'overview': 'Raj is a rich, carefree, happy-go-lucky second generation NRI. Simran is the daughter of Chaudhary Baldev Singh, who in spite of being an NRI is very strict about adherence to Indian values. Simran has left for India to be married to her childhood fiancé. Raj leaves for India with a mission at his hands, to claim his lady love under the noses of her whole family. Thus begins a saga.',\n",
              "  'popularity': 16.673,\n",
              "  'poster_path': '/2CAL2433ZeIihfX1Hb2139CX0pW.jpg',\n",
              "  'release_date': '1995-10-20',\n",
              "  'title': 'Dilwale Dulhania Le Jayenge',\n",
              "  'video': False,\n",
              "  'vote_average': 8.7,\n",
              "  'vote_count': 2991},\n",
              " {'adult': False,\n",
              "  'backdrop_path': '/iNh3BivHyg5sQRPP1KOkzguEX0H.jpg',\n",
              "  'genre_ids': [18, 80],\n",
              "  'id': 278,\n",
              "  'original_language': 'en',\n",
              "  'original_title': 'The Shawshank Redemption',\n",
              "  'overview': 'Framed in the 1940s for the double murder of his wife and her lover, upstanding banker Andy Dufresne begins a new life at the Shawshank prison, where he puts his accounting skills to work for an amoral warden. During his long stretch in prison, Dufresne comes to be admired by the other inmates -- including an older prisoner named Red -- for his integrity and unquenchable sense of hope.',\n",
              "  'popularity': 54.025,\n",
              "  'poster_path': '/q6y0Go1tsGEsmtFryDOJo3dEmqu.jpg',\n",
              "  'release_date': '1994-09-23',\n",
              "  'title': 'The Shawshank Redemption',\n",
              "  'video': False,\n",
              "  'vote_average': 8.7,\n",
              "  'vote_count': 19189},\n",
              " {'adult': False,\n",
              "  'backdrop_path': '/jtAI6OJIWLWiRItNSZoWjrsUtmi.jpg',\n",
              "  'genre_ids': [10749],\n",
              "  'id': 724089,\n",
              "  'original_language': 'en',\n",
              "  'original_title': \"Gabriel's Inferno Part II\",\n",
              "  'overview': \"Professor Gabriel Emerson finally learns the truth about Julia Mitchell's identity, but his realization comes a moment too late. Julia is done waiting for the well-respected Dante specialist to remember her and wants nothing more to do with him. Can Gabriel win back her heart before she finds love in another's arms?\",\n",
              "  'popularity': 6.348,\n",
              "  'poster_path': '/x5o8cLZfEXMoZczTYWLrUo1P7UJ.jpg',\n",
              "  'release_date': '2020-07-31',\n",
              "  'title': \"Gabriel's Inferno Part II\",\n",
              "  'video': False,\n",
              "  'vote_average': 8.7,\n",
              "  'vote_count': 1277},\n",
              " {'adult': False,\n",
              "  'backdrop_path': '/rSPw7tgCH9c6NqICZef4kZjFOQ5.jpg',\n",
              "  'genre_ids': [18, 80],\n",
              "  'id': 238,\n",
              "  'original_language': 'en',\n",
              "  'original_title': 'The Godfather',\n",
              "  'overview': 'Spanning the years 1945 to 1955, a chronicle of the fictional Italian-American Corleone crime family. When organized crime family patriarch, Vito Corleone barely survives an attempt on his life, his youngest son, Michael steps in to take care of the would-be killers, launching a campaign of bloody revenge.',\n",
              "  'popularity': 47.412,\n",
              "  'poster_path': '/3bhkrj58Vtu7enYsRolD1fZdja1.jpg',\n",
              "  'release_date': '1972-03-14',\n",
              "  'title': 'The Godfather',\n",
              "  'video': False,\n",
              "  'vote_average': 8.7,\n",
              "  'vote_count': 14481},\n",
              " {'adult': False,\n",
              "  'backdrop_path': '/fQq1FWp1rC89xDrRMuyFJdFUdMd.jpg',\n",
              "  'genre_ids': [10749, 35],\n",
              "  'id': 761053,\n",
              "  'original_language': 'en',\n",
              "  'original_title': \"Gabriel's Inferno Part III\",\n",
              "  'overview': \"The final part of the film adaption of the erotic romance novel Gabriel's Inferno written by an anonymous Canadian author under the pen name Sylvain Reynard.  Watch now : https://stream4k.xyz\",\n",
              "  'popularity': 21.192,\n",
              "  'poster_path': '/fYtHxTxlhzD4QWfEbrC1rypysSD.jpg',\n",
              "  'release_date': '2020-11-19',\n",
              "  'title': \"Gabriel's Inferno Part III\",\n",
              "  'video': False,\n",
              "  'vote_average': 8.7,\n",
              "  'vote_count': 838},\n",
              " {'adult': False,\n",
              "  'backdrop_path': '/w2uGvCpMtvRqZg6waC1hvLyZoJa.jpg',\n",
              "  'genre_ids': [10749],\n",
              "  'id': 696374,\n",
              "  'original_language': 'en',\n",
              "  'original_title': \"Gabriel's Inferno\",\n",
              "  'overview': \"An intriguing and sinful exploration of seduction, forbidden love, and redemption, Gabriel's Inferno is a captivating and wildly passionate tale of one man's escape from his own personal hell as he tries to earn the impossible--forgiveness and love.\",\n",
              "  'popularity': 8.748,\n",
              "  'poster_path': '/oyG9TL7FcRP4EZ9Vid6uKzwdndz.jpg',\n",
              "  'release_date': '2020-05-29',\n",
              "  'title': \"Gabriel's Inferno\",\n",
              "  'video': False,\n",
              "  'vote_average': 8.6,\n",
              "  'vote_count': 2071},\n",
              " {'adult': False,\n",
              "  'backdrop_path': '/loRmRzQXZeqG78TqZuyvSlEQfZb.jpg',\n",
              "  'genre_ids': [18, 36, 10752],\n",
              "  'id': 424,\n",
              "  'original_language': 'en',\n",
              "  'original_title': \"Schindler's List\",\n",
              "  'overview': 'The true story of how businessman Oskar Schindler saved over a thousand Jewish lives from the Nazis while they worked as slaves in his factory during World War II.',\n",
              "  'popularity': 32.933,\n",
              "  'poster_path': '/sF1U4EUQS8YHUYjNl3pMGNIQyr0.jpg',\n",
              "  'release_date': '1993-11-30',\n",
              "  'title': \"Schindler's List\",\n",
              "  'video': False,\n",
              "  'vote_average': 8.6,\n",
              "  'vote_count': 11525},\n",
              " {'adult': False,\n",
              "  'backdrop_path': '/poec6RqOKY9iSiIUmfyfPfiLtvB.jpg',\n",
              "  'genre_ids': [18, 80],\n",
              "  'id': 240,\n",
              "  'original_language': 'en',\n",
              "  'original_title': 'The Godfather: Part II',\n",
              "  'overview': 'In the continuing saga of the Corleone crime family, a young Vito Corleone grows up in Sicily and in 1910s New York. In the 1950s, Michael Corleone attempts to expand the family business into Las Vegas, Hollywood and Cuba.',\n",
              "  'popularity': 30.291,\n",
              "  'poster_path': '/hek3koDUyRQk7FIhPXsa6mT2Zc3.jpg',\n",
              "  'release_date': '1974-12-20',\n",
              "  'title': 'The Godfather: Part II',\n",
              "  'video': False,\n",
              "  'vote_average': 8.6,\n",
              "  'vote_count': 8656},\n",
              " {'adult': False,\n",
              "  'backdrop_path': '/dIWwZW7dJJtqC6CgWzYkNVKIUm8.jpg',\n",
              "  'genre_ids': [10749, 16, 18],\n",
              "  'id': 372058,\n",
              "  'original_language': 'ja',\n",
              "  'original_title': '君の名は。',\n",
              "  'overview': 'High schoolers Mitsuha and Taki are complete strangers living separate lives. But one night, they suddenly switch places. Mitsuha wakes up in Taki’s body, and he in hers. This bizarre occurrence continues to happen randomly, and the two must adjust their lives around each other.',\n",
              "  'popularity': 120.943,\n",
              "  'poster_path': '/q719jXXEzOoYaps6babgKnONONX.jpg',\n",
              "  'release_date': '2016-08-26',\n",
              "  'title': 'Your Name.',\n",
              "  'video': False,\n",
              "  'vote_average': 8.6,\n",
              "  'vote_count': 7606},\n",
              " {'adult': False,\n",
              "  'backdrop_path': '/Ab8mkHmkYADjU7wQiOkia9BzGvS.jpg',\n",
              "  'genre_ids': [16, 10751, 14],\n",
              "  'id': 129,\n",
              "  'original_language': 'ja',\n",
              "  'original_title': '千と千尋の神隠し',\n",
              "  'overview': 'A young girl, Chihiro, becomes trapped in a strange new world of spirits. When her parents undergo a mysterious transformation, she must call upon the courage she never knew she had to free her family.',\n",
              "  'popularity': 64.466,\n",
              "  'poster_path': '/39wmItIWsg5sZMyRUHLkWBcuVCM.jpg',\n",
              "  'release_date': '2001-07-20',\n",
              "  'title': 'Spirited Away',\n",
              "  'video': False,\n",
              "  'vote_average': 8.5,\n",
              "  'vote_count': 11502},\n",
              " {'adult': False,\n",
              "  'backdrop_path': '/TU9NIjwzjoKPwQHoHshkFcQUCG.jpg',\n",
              "  'genre_ids': [35, 53, 18],\n",
              "  'id': 496243,\n",
              "  'original_language': 'ko',\n",
              "  'original_title': '기생충',\n",
              "  'overview': \"All unemployed, Ki-taek's family takes peculiar interest in the wealthy and glamorous Parks for their livelihood until they get entangled in an unexpected incident.\",\n",
              "  'popularity': 117.134,\n",
              "  'poster_path': '/7IiTTgloJzvGI1TAYymCfbfl3vT.jpg',\n",
              "  'release_date': '2019-05-30',\n",
              "  'title': 'Parasite',\n",
              "  'video': False,\n",
              "  'vote_average': 8.5,\n",
              "  'vote_count': 11652},\n",
              " {'adult': False,\n",
              "  'backdrop_path': '/9guoVF7zayiiUq5ulKQpt375VIy.jpg',\n",
              "  'genre_ids': [16, 28, 14, 12],\n",
              "  'id': 592350,\n",
              "  'original_language': 'ja',\n",
              "  'original_title': '僕のヒーローアカデミア THE MOVIE ヒーローズ：ライジング',\n",
              "  'overview': \"Class 1-A visits Nabu Island where they finally get to do some real hero work. The place is so peaceful that it's more like a vacation … until they're attacked by a villain with an unfathomable Quirk! His power is eerily familiar, and it looks like Shigaraki had a hand in the plan. But with All Might retired and citizens' lives on the line, there's no time for questions. Deku and his friends are the next generation of heroes, and they're the island's only hope.\",\n",
              "  'popularity': 340.56,\n",
              "  'poster_path': '/zGVbrulkupqpbwgiNedkJPyQum4.jpg',\n",
              "  'release_date': '2019-12-20',\n",
              "  'title': 'My Hero Academia: Heroes Rising',\n",
              "  'video': False,\n",
              "  'vote_average': 8.5,\n",
              "  'vote_count': 748},\n",
              " {'adult': False,\n",
              "  'backdrop_path': '/hQQTE285UQB1lLY1XiioQ77LYnC.jpg',\n",
              "  'genre_ids': [16, 35, 10749, 18, 14],\n",
              "  'id': 572154,\n",
              "  'original_language': 'ja',\n",
              "  'original_title': '青春ブタ野郎はゆめみる少女の夢を見ない',\n",
              "  'overview': 'In Fujisawa, Sakuta Azusagawa is in his second year of high school. Blissful days with his girlfriend and upperclassman, Mai Sakurajima, are interrupted by the appearance of his first crush, Shoko Makinohara.',\n",
              "  'popularity': 137.836,\n",
              "  'poster_path': '/7Ai8vNEv4zEveh12JViGikoVPVV.jpg',\n",
              "  'release_date': '2019-06-15',\n",
              "  'title': 'Rascal Does Not Dream of a Dreaming Girl',\n",
              "  'video': False,\n",
              "  'vote_average': 8.5,\n",
              "  'vote_count': 280},\n",
              " {'adult': False,\n",
              "  'backdrop_path': '/5Nz25DPXfQaSpDgce42Y3kFg9G4.jpg',\n",
              "  'genre_ids': [14, 18, 80],\n",
              "  'id': 497,\n",
              "  'original_language': 'en',\n",
              "  'original_title': 'The Green Mile',\n",
              "  'overview': \"A supernatural tale set on death row in a Southern prison, where gentle giant John Coffey possesses the mysterious power to heal people's ailments. When the cell block's head guard, Paul Edgecomb, recognizes Coffey's miraculous gift, he tries desperately to help stave off the condemned man's execution.\",\n",
              "  'popularity': 47.545,\n",
              "  'poster_path': '/velWPhVMQeQKcxggNEU8YmIo52R.jpg',\n",
              "  'release_date': '1999-12-10',\n",
              "  'title': 'The Green Mile',\n",
              "  'video': False,\n",
              "  'vote_average': 8.5,\n",
              "  'vote_count': 12438},\n",
              " {'adult': False,\n",
              "  'backdrop_path': '/88J6waYVTta8Qz3iX3qUeWNA5d5.jpg',\n",
              "  'genre_ids': [18, 10749],\n",
              "  'id': 447362,\n",
              "  'original_language': 'en',\n",
              "  'original_title': 'Life in a Year',\n",
              "  'overview': 'A 17 year old finds out that his girlfriend is dying, so he sets out to give her an entire life, in the last year she has left.',\n",
              "  'popularity': 84.626,\n",
              "  'poster_path': '/bP7u19opmHXYeTCUwGjlLldmUMc.jpg',\n",
              "  'release_date': '2020-11-27',\n",
              "  'title': 'Life in a Year',\n",
              "  'video': False,\n",
              "  'vote_average': 8.5,\n",
              "  'vote_count': 681},\n",
              " {'adult': False,\n",
              "  'backdrop_path': '/yHtB4KHNigx3ZoxDvQbW2SOXGfq.jpg',\n",
              "  'genre_ids': [16, 10751, 12, 14],\n",
              "  'id': 441130,\n",
              "  'original_language': 'en',\n",
              "  'original_title': 'Wolfwalkers',\n",
              "  'overview': 'In a time of superstition and magic, when wolves are seen as demonic and nature an evil to be tamed, a young apprentice hunter comes to Ireland with her father to wipe out the last pack. But when she saves a wild native girl, their friendship leads her to discover the world of the Wolfwalkers and transform her into the very thing her father is tasked to destroy.',\n",
              "  'popularity': 21.786,\n",
              "  'poster_path': '/uRkDrsKwCCZC9zdHZs2CFTt1ATZ.jpg',\n",
              "  'release_date': '2020-10-26',\n",
              "  'title': 'Wolfwalkers',\n",
              "  'video': False,\n",
              "  'vote_average': 8.5,\n",
              "  'vote_count': 490},\n",
              " {'adult': False,\n",
              "  'backdrop_path': '/nVKRspU9SQEs2gNrms8cDKsI4vx.jpg',\n",
              "  'genre_ids': [28, 878],\n",
              "  'id': 588228,\n",
              "  'original_language': 'en',\n",
              "  'original_title': 'The Tomorrow War',\n",
              "  'overview': 'The world is stunned when a group of time travelers arrive from the year 2051 to deliver an urgent message: Thirty years in the future, mankind is losing a global war against a deadly alien species. The only hope for survival is for soldiers and civilians from the present to be transported to the future and join the fight. Among those recruited is high school teacher and family man Dan Forester. Determined to save the world for his young daughter, Dan teams up with a brilliant scientist and his estranged father in a desperate quest to rewrite the fate of the planet.',\n",
              "  'popularity': 2116.353,\n",
              "  'poster_path': '/34nDCQZwaEvsy4CFO5hkGRFDCVU.jpg',\n",
              "  'release_date': '2021-07-02',\n",
              "  'title': 'The Tomorrow War',\n",
              "  'video': False,\n",
              "  'vote_average': 8.5,\n",
              "  'vote_count': 1467},\n",
              " {'adult': False,\n",
              "  'backdrop_path': '/qqHQsStV6exghCM7zbObuYBiYxw.jpg',\n",
              "  'genre_ids': [18],\n",
              "  'id': 389,\n",
              "  'original_language': 'en',\n",
              "  'original_title': '12 Angry Men',\n",
              "  'overview': \"The defense and the prosecution have rested and the jury is filing into the jury room to decide if a young Spanish-American is guilty or innocent of murdering his father. What begins as an open and shut case soon becomes a mini-drama of each of the jurors' prejudices and preconceptions about the trial, the accused, and each other.\",\n",
              "  'popularity': 20.443,\n",
              "  'poster_path': '/7sf9CgJz30aXDvrg7DYYUQ2U91T.jpg',\n",
              "  'release_date': '1957-04-10',\n",
              "  'title': '12 Angry Men',\n",
              "  'video': False,\n",
              "  'vote_average': 8.5,\n",
              "  'vote_count': 5662},\n",
              " {'adult': False,\n",
              "  'backdrop_path': '/suaEOtk1N1sgg2MTM7oZd2cfVp3.jpg',\n",
              "  'genre_ids': [53, 80],\n",
              "  'id': 680,\n",
              "  'original_language': 'en',\n",
              "  'original_title': 'Pulp Fiction',\n",
              "  'overview': \"A burger-loving hit man, his philosophical partner, a drug-addled gangster's moll and a washed-up boxer converge in this sprawling, comedic crime caper. Their adventures unfurl in three stories that ingeniously trip back and forth in time.\",\n",
              "  'popularity': 43.173,\n",
              "  'poster_path': '/d5iIlFn5s0ImszYzBPb8JPIfbXD.jpg',\n",
              "  'release_date': '1994-09-10',\n",
              "  'title': 'Pulp Fiction',\n",
              "  'video': False,\n",
              "  'vote_average': 8.5,\n",
              "  'vote_count': 21336},\n",
              " {'adult': False,\n",
              "  'backdrop_path': '/1fOsyhVz5qyX2rl1qqX6KImVhTx.jpg',\n",
              "  'genre_ids': [18, 35],\n",
              "  'id': 644479,\n",
              "  'original_language': 'es',\n",
              "  'original_title': 'Dedicada a mi ex',\n",
              "  'overview': 'The film tells the story of Ariel, a 21-year-old who decides to form a rock band to compete for a prize of ten thousand dollars in a musical band contest, this as a last option when trying to get money to save their relationship and reunite with his ex-girlfriend, which breaks due to the trip she must make to Finland for an internship. Ariel with her friend Ortega, decides to make a casting to find the other members of the band, although they do not know nothing about music, thus forming a band with members that have diverse and opposite personalities.',\n",
              "  'popularity': 18.222,\n",
              "  'poster_path': '/riAooJrFvVhotyaOgoI0WR7okSe.jpg',\n",
              "  'release_date': '2019-11-01',\n",
              "  'title': 'Dedicated to my ex',\n",
              "  'video': False,\n",
              "  'vote_average': 8.5,\n",
              "  'vote_count': 397}]"
            ]
          },
          "metadata": {
            "tags": []
          },
          "execution_count": 7
        }
      ]
    },
    {
      "cell_type": "code",
      "metadata": {
        "id": "HAdMpdhJGwZ0"
      },
      "source": [
        "df=pd.DataFrame(response.json()['results'])"
      ],
      "execution_count": 8,
      "outputs": []
    },
    {
      "cell_type": "code",
      "metadata": {
        "colab": {
          "base_uri": "https://localhost:8080/",
          "height": 666
        },
        "id": "bNJ1Vnn4GwcX",
        "outputId": "e528a978-a40f-4a80-efe3-370efc09ebed"
      },
      "source": [
        "df.head()"
      ],
      "execution_count": 9,
      "outputs": [
        {
          "output_type": "execute_result",
          "data": {
            "text/html": [
              "<div>\n",
              "<style scoped>\n",
              "    .dataframe tbody tr th:only-of-type {\n",
              "        vertical-align: middle;\n",
              "    }\n",
              "\n",
              "    .dataframe tbody tr th {\n",
              "        vertical-align: top;\n",
              "    }\n",
              "\n",
              "    .dataframe thead th {\n",
              "        text-align: right;\n",
              "    }\n",
              "</style>\n",
              "<table border=\"1\" class=\"dataframe\">\n",
              "  <thead>\n",
              "    <tr style=\"text-align: right;\">\n",
              "      <th></th>\n",
              "      <th>adult</th>\n",
              "      <th>backdrop_path</th>\n",
              "      <th>genre_ids</th>\n",
              "      <th>id</th>\n",
              "      <th>original_language</th>\n",
              "      <th>original_title</th>\n",
              "      <th>overview</th>\n",
              "      <th>popularity</th>\n",
              "      <th>poster_path</th>\n",
              "      <th>release_date</th>\n",
              "      <th>title</th>\n",
              "      <th>video</th>\n",
              "      <th>vote_average</th>\n",
              "      <th>vote_count</th>\n",
              "    </tr>\n",
              "  </thead>\n",
              "  <tbody>\n",
              "    <tr>\n",
              "      <th>0</th>\n",
              "      <td>False</td>\n",
              "      <td>/gNBCvtYyGPbjPCT1k3MvJuNuXR6.jpg</td>\n",
              "      <td>[35, 18, 10749]</td>\n",
              "      <td>19404</td>\n",
              "      <td>hi</td>\n",
              "      <td>दिलवाले दुल्हनिया ले जायेंगे</td>\n",
              "      <td>Raj is a rich, carefree, happy-go-lucky second...</td>\n",
              "      <td>16.673</td>\n",
              "      <td>/2CAL2433ZeIihfX1Hb2139CX0pW.jpg</td>\n",
              "      <td>1995-10-20</td>\n",
              "      <td>Dilwale Dulhania Le Jayenge</td>\n",
              "      <td>False</td>\n",
              "      <td>8.7</td>\n",
              "      <td>2991</td>\n",
              "    </tr>\n",
              "    <tr>\n",
              "      <th>1</th>\n",
              "      <td>False</td>\n",
              "      <td>/iNh3BivHyg5sQRPP1KOkzguEX0H.jpg</td>\n",
              "      <td>[18, 80]</td>\n",
              "      <td>278</td>\n",
              "      <td>en</td>\n",
              "      <td>The Shawshank Redemption</td>\n",
              "      <td>Framed in the 1940s for the double murder of h...</td>\n",
              "      <td>54.025</td>\n",
              "      <td>/q6y0Go1tsGEsmtFryDOJo3dEmqu.jpg</td>\n",
              "      <td>1994-09-23</td>\n",
              "      <td>The Shawshank Redemption</td>\n",
              "      <td>False</td>\n",
              "      <td>8.7</td>\n",
              "      <td>19189</td>\n",
              "    </tr>\n",
              "    <tr>\n",
              "      <th>2</th>\n",
              "      <td>False</td>\n",
              "      <td>/jtAI6OJIWLWiRItNSZoWjrsUtmi.jpg</td>\n",
              "      <td>[10749]</td>\n",
              "      <td>724089</td>\n",
              "      <td>en</td>\n",
              "      <td>Gabriel's Inferno Part II</td>\n",
              "      <td>Professor Gabriel Emerson finally learns the t...</td>\n",
              "      <td>6.348</td>\n",
              "      <td>/x5o8cLZfEXMoZczTYWLrUo1P7UJ.jpg</td>\n",
              "      <td>2020-07-31</td>\n",
              "      <td>Gabriel's Inferno Part II</td>\n",
              "      <td>False</td>\n",
              "      <td>8.7</td>\n",
              "      <td>1277</td>\n",
              "    </tr>\n",
              "    <tr>\n",
              "      <th>3</th>\n",
              "      <td>False</td>\n",
              "      <td>/rSPw7tgCH9c6NqICZef4kZjFOQ5.jpg</td>\n",
              "      <td>[18, 80]</td>\n",
              "      <td>238</td>\n",
              "      <td>en</td>\n",
              "      <td>The Godfather</td>\n",
              "      <td>Spanning the years 1945 to 1955, a chronicle o...</td>\n",
              "      <td>47.412</td>\n",
              "      <td>/3bhkrj58Vtu7enYsRolD1fZdja1.jpg</td>\n",
              "      <td>1972-03-14</td>\n",
              "      <td>The Godfather</td>\n",
              "      <td>False</td>\n",
              "      <td>8.7</td>\n",
              "      <td>14481</td>\n",
              "    </tr>\n",
              "    <tr>\n",
              "      <th>4</th>\n",
              "      <td>False</td>\n",
              "      <td>/fQq1FWp1rC89xDrRMuyFJdFUdMd.jpg</td>\n",
              "      <td>[10749, 35]</td>\n",
              "      <td>761053</td>\n",
              "      <td>en</td>\n",
              "      <td>Gabriel's Inferno Part III</td>\n",
              "      <td>The final part of the film adaption of the ero...</td>\n",
              "      <td>21.192</td>\n",
              "      <td>/fYtHxTxlhzD4QWfEbrC1rypysSD.jpg</td>\n",
              "      <td>2020-11-19</td>\n",
              "      <td>Gabriel's Inferno Part III</td>\n",
              "      <td>False</td>\n",
              "      <td>8.7</td>\n",
              "      <td>838</td>\n",
              "    </tr>\n",
              "  </tbody>\n",
              "</table>\n",
              "</div>"
            ],
            "text/plain": [
              "   adult                     backdrop_path  ... vote_average  vote_count\n",
              "0  False  /gNBCvtYyGPbjPCT1k3MvJuNuXR6.jpg  ...          8.7        2991\n",
              "1  False  /iNh3BivHyg5sQRPP1KOkzguEX0H.jpg  ...          8.7       19189\n",
              "2  False  /jtAI6OJIWLWiRItNSZoWjrsUtmi.jpg  ...          8.7        1277\n",
              "3  False  /rSPw7tgCH9c6NqICZef4kZjFOQ5.jpg  ...          8.7       14481\n",
              "4  False  /fQq1FWp1rC89xDrRMuyFJdFUdMd.jpg  ...          8.7         838\n",
              "\n",
              "[5 rows x 14 columns]"
            ]
          },
          "metadata": {
            "tags": []
          },
          "execution_count": 9
        }
      ]
    },
    {
      "cell_type": "code",
      "metadata": {
        "id": "y4xcSPV6Gwe7"
      },
      "source": [
        "df=pd.DataFrame(response.json()['results'])[['id','title','vote_average','original_title','overview']]"
      ],
      "execution_count": 12,
      "outputs": []
    },
    {
      "cell_type": "code",
      "metadata": {
        "colab": {
          "base_uri": "https://localhost:8080/",
          "height": 204
        },
        "id": "PN4SeRZEGwn9",
        "outputId": "c4a40484-ee8b-4f39-a618-450e3f473677"
      },
      "source": [
        "df.head()"
      ],
      "execution_count": 13,
      "outputs": [
        {
          "output_type": "execute_result",
          "data": {
            "text/html": [
              "<div>\n",
              "<style scoped>\n",
              "    .dataframe tbody tr th:only-of-type {\n",
              "        vertical-align: middle;\n",
              "    }\n",
              "\n",
              "    .dataframe tbody tr th {\n",
              "        vertical-align: top;\n",
              "    }\n",
              "\n",
              "    .dataframe thead th {\n",
              "        text-align: right;\n",
              "    }\n",
              "</style>\n",
              "<table border=\"1\" class=\"dataframe\">\n",
              "  <thead>\n",
              "    <tr style=\"text-align: right;\">\n",
              "      <th></th>\n",
              "      <th>id</th>\n",
              "      <th>title</th>\n",
              "      <th>vote_average</th>\n",
              "      <th>original_title</th>\n",
              "      <th>overview</th>\n",
              "    </tr>\n",
              "  </thead>\n",
              "  <tbody>\n",
              "    <tr>\n",
              "      <th>0</th>\n",
              "      <td>19404</td>\n",
              "      <td>Dilwale Dulhania Le Jayenge</td>\n",
              "      <td>8.7</td>\n",
              "      <td>दिलवाले दुल्हनिया ले जायेंगे</td>\n",
              "      <td>Raj is a rich, carefree, happy-go-lucky second...</td>\n",
              "    </tr>\n",
              "    <tr>\n",
              "      <th>1</th>\n",
              "      <td>278</td>\n",
              "      <td>The Shawshank Redemption</td>\n",
              "      <td>8.7</td>\n",
              "      <td>The Shawshank Redemption</td>\n",
              "      <td>Framed in the 1940s for the double murder of h...</td>\n",
              "    </tr>\n",
              "    <tr>\n",
              "      <th>2</th>\n",
              "      <td>724089</td>\n",
              "      <td>Gabriel's Inferno Part II</td>\n",
              "      <td>8.7</td>\n",
              "      <td>Gabriel's Inferno Part II</td>\n",
              "      <td>Professor Gabriel Emerson finally learns the t...</td>\n",
              "    </tr>\n",
              "    <tr>\n",
              "      <th>3</th>\n",
              "      <td>238</td>\n",
              "      <td>The Godfather</td>\n",
              "      <td>8.7</td>\n",
              "      <td>The Godfather</td>\n",
              "      <td>Spanning the years 1945 to 1955, a chronicle o...</td>\n",
              "    </tr>\n",
              "    <tr>\n",
              "      <th>4</th>\n",
              "      <td>761053</td>\n",
              "      <td>Gabriel's Inferno Part III</td>\n",
              "      <td>8.7</td>\n",
              "      <td>Gabriel's Inferno Part III</td>\n",
              "      <td>The final part of the film adaption of the ero...</td>\n",
              "    </tr>\n",
              "  </tbody>\n",
              "</table>\n",
              "</div>"
            ],
            "text/plain": [
              "       id  ...                                           overview\n",
              "0   19404  ...  Raj is a rich, carefree, happy-go-lucky second...\n",
              "1     278  ...  Framed in the 1940s for the double murder of h...\n",
              "2  724089  ...  Professor Gabriel Emerson finally learns the t...\n",
              "3     238  ...  Spanning the years 1945 to 1955, a chronicle o...\n",
              "4  761053  ...  The final part of the film adaption of the ero...\n",
              "\n",
              "[5 rows x 5 columns]"
            ]
          },
          "metadata": {
            "tags": []
          },
          "execution_count": 13
        }
      ]
    },
    {
      "cell_type": "markdown",
      "metadata": {
        "id": "OKkVp7JHLqIh"
      },
      "source": [
        "#loop this is only for page 1 so lot of pages are there \n"
      ]
    },
    {
      "cell_type": "code",
      "metadata": {
        "id": "N1S5-uPrLhpo"
      },
      "source": [
        "df1=pd.DataFrame()"
      ],
      "execution_count": 14,
      "outputs": []
    },
    {
      "cell_type": "code",
      "metadata": {
        "colab": {
          "base_uri": "https://localhost:8080/",
          "height": 32
        },
        "id": "W7uLJ5GeLzwa",
        "outputId": "f59d4b71-e1cd-4865-e8da-9da2d18bc329"
      },
      "source": [
        "df1"
      ],
      "execution_count": 15,
      "outputs": [
        {
          "output_type": "execute_result",
          "data": {
            "text/html": [
              "<div>\n",
              "<style scoped>\n",
              "    .dataframe tbody tr th:only-of-type {\n",
              "        vertical-align: middle;\n",
              "    }\n",
              "\n",
              "    .dataframe tbody tr th {\n",
              "        vertical-align: top;\n",
              "    }\n",
              "\n",
              "    .dataframe thead th {\n",
              "        text-align: right;\n",
              "    }\n",
              "</style>\n",
              "<table border=\"1\" class=\"dataframe\">\n",
              "  <thead>\n",
              "    <tr style=\"text-align: right;\">\n",
              "      <th></th>\n",
              "    </tr>\n",
              "  </thead>\n",
              "  <tbody>\n",
              "  </tbody>\n",
              "</table>\n",
              "</div>"
            ],
            "text/plain": [
              "Empty DataFrame\n",
              "Columns: []\n",
              "Index: []"
            ]
          },
          "metadata": {
            "tags": []
          },
          "execution_count": 15
        }
      ]
    },
    {
      "cell_type": "code",
      "metadata": {
        "id": "V331jEW3L0dr"
      },
      "source": [
        "for i in range(1,445):\n",
        "  response=requests.get('https://api.themoviedb.org/3/movie/top_rated?api_key=d133ddcc37565daf8541ed1a80adf06f&language=en-US&page={}'.format(i))\n",
        "  temp_df=df=pd.DataFrame(response.json()['results'])[['id','title','vote_average','original_title','overview']]\n",
        "  df1=df1.append(temp_df,ignore_index=True);"
      ],
      "execution_count": 20,
      "outputs": []
    },
    {
      "cell_type": "code",
      "metadata": {
        "colab": {
          "base_uri": "https://localhost:8080/",
          "height": 419
        },
        "id": "iYN-HC31MaYo",
        "outputId": "0fd0d339-b978-4454-e8c0-2297ab96c59d"
      },
      "source": [
        "df1"
      ],
      "execution_count": 21,
      "outputs": [
        {
          "output_type": "execute_result",
          "data": {
            "text/html": [
              "<div>\n",
              "<style scoped>\n",
              "    .dataframe tbody tr th:only-of-type {\n",
              "        vertical-align: middle;\n",
              "    }\n",
              "\n",
              "    .dataframe tbody tr th {\n",
              "        vertical-align: top;\n",
              "    }\n",
              "\n",
              "    .dataframe thead th {\n",
              "        text-align: right;\n",
              "    }\n",
              "</style>\n",
              "<table border=\"1\" class=\"dataframe\">\n",
              "  <thead>\n",
              "    <tr style=\"text-align: right;\">\n",
              "      <th></th>\n",
              "      <th>id</th>\n",
              "      <th>title</th>\n",
              "      <th>vote_average</th>\n",
              "      <th>original_title</th>\n",
              "      <th>overview</th>\n",
              "    </tr>\n",
              "  </thead>\n",
              "  <tbody>\n",
              "    <tr>\n",
              "      <th>0</th>\n",
              "      <td>19404</td>\n",
              "      <td>Dilwale Dulhania Le Jayenge</td>\n",
              "      <td>8.7</td>\n",
              "      <td>दिलवाले दुल्हनिया ले जायेंगे</td>\n",
              "      <td>Raj is a rich, carefree, happy-go-lucky second...</td>\n",
              "    </tr>\n",
              "    <tr>\n",
              "      <th>1</th>\n",
              "      <td>278</td>\n",
              "      <td>The Shawshank Redemption</td>\n",
              "      <td>8.7</td>\n",
              "      <td>The Shawshank Redemption</td>\n",
              "      <td>Framed in the 1940s for the double murder of h...</td>\n",
              "    </tr>\n",
              "    <tr>\n",
              "      <th>2</th>\n",
              "      <td>724089</td>\n",
              "      <td>Gabriel's Inferno Part II</td>\n",
              "      <td>8.7</td>\n",
              "      <td>Gabriel's Inferno Part II</td>\n",
              "      <td>Professor Gabriel Emerson finally learns the t...</td>\n",
              "    </tr>\n",
              "    <tr>\n",
              "      <th>3</th>\n",
              "      <td>238</td>\n",
              "      <td>The Godfather</td>\n",
              "      <td>8.7</td>\n",
              "      <td>The Godfather</td>\n",
              "      <td>Spanning the years 1945 to 1955, a chronicle o...</td>\n",
              "    </tr>\n",
              "    <tr>\n",
              "      <th>4</th>\n",
              "      <td>761053</td>\n",
              "      <td>Gabriel's Inferno Part III</td>\n",
              "      <td>8.7</td>\n",
              "      <td>Gabriel's Inferno Part III</td>\n",
              "      <td>The final part of the film adaption of the ero...</td>\n",
              "    </tr>\n",
              "    <tr>\n",
              "      <th>...</th>\n",
              "      <td>...</td>\n",
              "      <td>...</td>\n",
              "      <td>...</td>\n",
              "      <td>...</td>\n",
              "      <td>...</td>\n",
              "    </tr>\n",
              "    <tr>\n",
              "      <th>8859</th>\n",
              "      <td>13805</td>\n",
              "      <td>Disaster Movie</td>\n",
              "      <td>3.2</td>\n",
              "      <td>Disaster Movie</td>\n",
              "      <td>The filmmaking team behind the hits \"Scary Mov...</td>\n",
              "    </tr>\n",
              "    <tr>\n",
              "      <th>8860</th>\n",
              "      <td>11059</td>\n",
              "      <td>House of the Dead</td>\n",
              "      <td>3.1</td>\n",
              "      <td>House of the Dead</td>\n",
              "      <td>Set on an island off the coast, a techno rave ...</td>\n",
              "    </tr>\n",
              "    <tr>\n",
              "      <th>8861</th>\n",
              "      <td>5491</td>\n",
              "      <td>Battlefield Earth</td>\n",
              "      <td>3.1</td>\n",
              "      <td>Battlefield Earth</td>\n",
              "      <td>In the year 3000, man is no match for the Psyc...</td>\n",
              "    </tr>\n",
              "    <tr>\n",
              "      <th>8862</th>\n",
              "      <td>14164</td>\n",
              "      <td>Dragonball Evolution</td>\n",
              "      <td>2.8</td>\n",
              "      <td>Dragonball Evolution</td>\n",
              "      <td>The young warrior Son Goku sets out on a quest...</td>\n",
              "    </tr>\n",
              "    <tr>\n",
              "      <th>8863</th>\n",
              "      <td>40016</td>\n",
              "      <td>Birdemic: Shock and Terror</td>\n",
              "      <td>2.2</td>\n",
              "      <td>Birdemic: Shock and Terror</td>\n",
              "      <td>A platoon of eagles and vultures attacks the r...</td>\n",
              "    </tr>\n",
              "  </tbody>\n",
              "</table>\n",
              "<p>8864 rows × 5 columns</p>\n",
              "</div>"
            ],
            "text/plain": [
              "          id  ...                                           overview\n",
              "0      19404  ...  Raj is a rich, carefree, happy-go-lucky second...\n",
              "1        278  ...  Framed in the 1940s for the double murder of h...\n",
              "2     724089  ...  Professor Gabriel Emerson finally learns the t...\n",
              "3        238  ...  Spanning the years 1945 to 1955, a chronicle o...\n",
              "4     761053  ...  The final part of the film adaption of the ero...\n",
              "...      ...  ...                                                ...\n",
              "8859   13805  ...  The filmmaking team behind the hits \"Scary Mov...\n",
              "8860   11059  ...  Set on an island off the coast, a techno rave ...\n",
              "8861    5491  ...  In the year 3000, man is no match for the Psyc...\n",
              "8862   14164  ...  The young warrior Son Goku sets out on a quest...\n",
              "8863   40016  ...  A platoon of eagles and vultures attacks the r...\n",
              "\n",
              "[8864 rows x 5 columns]"
            ]
          },
          "metadata": {
            "tags": []
          },
          "execution_count": 21
        }
      ]
    },
    {
      "cell_type": "code",
      "metadata": {
        "colab": {
          "base_uri": "https://localhost:8080/"
        },
        "id": "QrR0Sl66Ow6L",
        "outputId": "e24e8249-8240-421d-d561-df4ec2d92671"
      },
      "source": [
        "df1.shape"
      ],
      "execution_count": 23,
      "outputs": [
        {
          "output_type": "execute_result",
          "data": {
            "text/plain": [
              "(8864, 5)"
            ]
          },
          "metadata": {
            "tags": []
          },
          "execution_count": 23
        }
      ]
    },
    {
      "cell_type": "code",
      "metadata": {
        "id": "ddInp6vKMz4d"
      },
      "source": [
        "df1.to_csv('movies.csv')"
      ],
      "execution_count": 28,
      "outputs": []
    },
    {
      "cell_type": "markdown",
      "metadata": {
        "id": "H8UQcvRAPyaf"
      },
      "source": [
        "https://prnt.sc/19axwr6"
      ]
    },
    {
      "cell_type": "code",
      "metadata": {
        "id": "4Yt4WbpmPrlF"
      },
      "source": [
        ""
      ],
      "execution_count": null,
      "outputs": []
    }
  ]
}